{
 "cells": [
  {
   "cell_type": "markdown",
   "metadata": {},
   "source": [
    "# phitigra: a simple graph editor\n",
    "\n",
    "[SageMath](https://www.sagemath.org/) has a large set of functions for [graph theory](https://doc.sagemath.org/html/en/reference/graphs/index.html). Defining graphs by hand can however be complicated as vertices and edges are added with the command line.\n",
    "This package is an editor that allows to define or change graphs using the mouse. It has the form of a [Jupyter](https://jupyter.org/) widget.\n",
    "\n",
    "## Getting started\n"
   ]
  },
  {
   "cell_type": "code",
   "execution_count": null,
   "metadata": {
    "scrolled": false
   },
   "outputs": [],
   "source": [
    "from src.phitigra import GraphEditor"
   ]
  },
  {
   "cell_type": "markdown",
   "metadata": {},
   "source": [
    "The editor widget is a `GraphEditor` object. By default the canvas is empty; you can add vertices and edges by clicking on *add vertex or edge* and clicking on the canvas."
   ]
  },
  {
   "cell_type": "code",
   "execution_count": null,
   "metadata": {
    "scrolled": false
   },
   "outputs": [],
   "source": [
    "editor = GraphEditor()\n",
    "editor.show()"
   ]
  },
  {
   "cell_type": "markdown",
   "metadata": {},
   "source": [
    "It is also possible to plot (and later edit) an already existing graph. Note that the two instances of the editor are completely independent."
   ]
  },
  {
   "cell_type": "code",
   "execution_count": null,
   "metadata": {
    "scrolled": false
   },
   "outputs": [],
   "source": [
    "G = graphs.PetersenGraph()\n",
    "editor2 = GraphEditor(G)\n",
    "editor2.show()"
   ]
  },
  {
   "cell_type": "markdown",
   "metadata": {},
   "source": [
    "Now you can move vertices, change their color, etc. The graph drawn can be accessed with `.graph`. It is the same object as the graph given when creating the widget."
   ]
  },
  {
   "cell_type": "code",
   "execution_count": null,
   "metadata": {
    "scrolled": false
   },
   "outputs": [],
   "source": [
    "editor2.graph"
   ]
  },
  {
   "cell_type": "code",
   "execution_count": null,
   "metadata": {
    "scrolled": false
   },
   "outputs": [],
   "source": [
    "editor2.graph is G"
   ]
  },
  {
   "cell_type": "markdown",
   "metadata": {},
   "source": [
    "A copy of the drawn graph can be obtained as follows:"
   ]
  },
  {
   "cell_type": "code",
   "execution_count": null,
   "metadata": {
    "scrolled": false
   },
   "outputs": [],
   "source": [
    "H = editor2.get_graph()\n",
    "H == G and not H is G"
   ]
  },
  {
   "cell_type": "markdown",
   "metadata": {},
   "source": [
    "### Application 1: testing a conjecture"
   ]
  },
  {
   "cell_type": "code",
   "execution_count": null,
   "metadata": {},
   "outputs": [],
   "source": [
    "def conjecture(G):\n",
    "    return not G.is_vertex_transitive() or G.is_hamiltonian()"
   ]
  },
  {
   "cell_type": "markdown",
   "metadata": {},
   "source": [
    "Let us [conjecture](https://en.wikipedia.org/wiki/Lov%C3%A1sz_conjecture#Hamiltonian_cycle) that every vertex transitive graph is hamiltonian. Then `conjecture(G)` should return `True` for every graph `G`. We can to test in on various small graphs drawn in the widget. If the graph in the above widget is still the Petersen graph, the following should return `False`, disproving the conjecture."
   ]
  },
  {
   "cell_type": "code",
   "execution_count": null,
   "metadata": {},
   "outputs": [],
   "source": [
    "conjecture(editor2.get_graph())"
   ]
  },
  {
   "cell_type": "markdown",
   "metadata": {},
   "source": [
    "### Application 2: producing pictures for your papers\n",
    "\n",
    "The drawing of the graph in the editor can be exported to a latex (tikz) picture to be included in a paper. The latex code can be obtained as follows: "
   ]
  },
  {
   "cell_type": "code",
   "execution_count": null,
   "metadata": {
    "scrolled": true
   },
   "outputs": [],
   "source": [
    "latex(editor2.graph)"
   ]
  },
  {
   "cell_type": "markdown",
   "metadata": {},
   "source": [
    "Note that only the positions of the vertices will be kept. See [this page](https://doc.sagemath.org/html/en/tutorial/latex.html#an-example-combinatorial-graphs-with-tkz-graph) for more details about exporting graphs to latex . The resulting pdf image can be seen as follows."
   ]
  },
  {
   "cell_type": "code",
   "execution_count": null,
   "metadata": {},
   "outputs": [],
   "source": [
    "view(editor2.graph)"
   ]
  },
  {
   "cell_type": "markdown",
   "metadata": {},
   "source": [
    "The above requires ``pdflatex``. It  will fail if you run this demo on binder.\n",
    "\n",
    "## Widget settings\n",
    "\n",
    "Several parameters of the widget can be changed:\n",
    "  * the width and height of the drawing canvas;\n",
    "  * the default radius and color for vertices;\n",
    "  * the default color for edges;\n",
    "  * whether or not the display vertex and edge labels."
   ]
  },
  {
   "cell_type": "code",
   "execution_count": null,
   "metadata": {},
   "outputs": [],
   "source": [
    "editor3 = GraphEditor(graphs.PetersenGraph(), width=300, height=300, default_radius=12, default_vertex_color='orange', default_edge_color='#666', show_vertex_labels=False)\n",
    "editor3.show()"
   ]
  },
  {
   "cell_type": "markdown",
   "metadata": {},
   "source": [
    "## Changing the drawing\n",
    "\n",
    "Changes to the drawing can be done with the mouse of course, but also by calling appropriate functions.\n",
    "\n",
    "### Automatically setting positions"
   ]
  },
  {
   "cell_type": "code",
   "execution_count": null,
   "metadata": {},
   "outputs": [],
   "source": [
    "K = graphs.RandomBipartite(5,5,0.75)\n",
    "editor4 = GraphEditor(K, width = 500, height = 500)\n",
    "editor4.show()"
   ]
  },
  {
   "cell_type": "markdown",
   "metadata": {},
   "source": [
    "The graph drawn above is bipartite and the partition numbe of a vertex is the first coordinate of its label. The code below sorts and colors vertices according to their partition number and changes their size according to the second coordinate of their label."
   ]
  },
  {
   "cell_type": "code",
   "execution_count": null,
   "metadata": {},
   "outputs": [],
   "source": [
    "for v in editor4.graph:\n",
    "    p, i = v\n",
    "    \n",
    "    editor4.set_vertex_radius(v, 3 * i + 25)\n",
    "    if p:\n",
    "        editor4.set_vertex_pos(v, 100, 50 +  100 * i)\n",
    "        # editor4.set_vertex_color(v, 'red')\n",
    "    else:\n",
    "        editor4.set_vertex_pos(v, 400, 50 + 100 * i)\n",
    "        #editor4.set_vertex_color(v, 'lightblue')\n",
    "    \n",
    "editor4.refresh()                    # needed to update the canvas"
   ]
  },
  {
   "cell_type": "markdown",
   "metadata": {},
   "source": [
    "The names of the vertices are by default the vertex labels, but can be changed by redefining the `get_vertex_label` function."
   ]
  },
  {
   "cell_type": "code",
   "execution_count": null,
   "metadata": {},
   "outputs": [],
   "source": [
    "def label(v):\n",
    "    p, i = v\n",
    "    return ('left ' if p else 'right ') + str(i)\n",
    "\n",
    "editor4.get_vertex_label = label\n",
    "editor4.refresh()"
   ]
  },
  {
   "cell_type": "markdown",
   "metadata": {},
   "source": [
    "### Automatically setting colors\n",
    "\n",
    "The colors of the vertices and edges can also be defined by a function."
   ]
  },
  {
   "cell_type": "code",
   "execution_count": null,
   "metadata": {},
   "outputs": [],
   "source": [
    "# Below we define a grid and delete many edges in it\n",
    "n = 10\n",
    "g = graphs.GridGraph([n,n])\n",
    "for _ in range(5*n):\n",
    "    e = g.random_edge()\n",
    "    g.delete_edge(e)\n",
    "    if not g.is_connected():\n",
    "        g.add_edge(e)\n",
    "    \n",
    "editor5 = GraphEditor(g, default_radius=10, default_vertex_color='white', show_vertex_labels=False)\n",
    "editor5.show()"
   ]
  },
  {
   "cell_type": "markdown",
   "metadata": {},
   "source": [
    "The code below recolors the vertices depending on their distance to vertex `(3,1)`."
   ]
  },
  {
   "cell_type": "code",
   "execution_count": null,
   "metadata": {},
   "outputs": [],
   "source": [
    "def col(i, n):\n",
    "    # Return a color depending on i\n",
    "    rgbv = int(i * 255 / n)\n",
    "    return '#%02x%02x%02x' % (100, rgbv , 255 - rgbv)\n",
    "\n",
    "source = (3, 1)\n",
    "distances = {v:g.distance(source, v) for v in g}\n",
    "# maximum distance to (x,y) in the graph\n",
    "max_dist = max(distances.values())\n",
    "\n",
    "for v in g:\n",
    "    d = distances[v]\n",
    "    editor5.set_vertex_color(v, col(d, max_dist))\n",
    "editor5.refresh()"
   ]
  },
  {
   "cell_type": "markdown",
   "metadata": {},
   "source": [
    "## Running an algorithm step by step\n",
    "\n",
    "Below we define a function that, when called on a `Graph Editor` widget and a source vertex, returns a generator. Each time an object is extracted from the generator (these objects are `None`), one step of Dijkstra's algorithm is executed on the graph of the widget and the colors and labels of the vertices are updated accordingly. We then define a button to trigger the runs of these steps. "
   ]
  },
  {
   "cell_type": "code",
   "execution_count": null,
   "metadata": {},
   "outputs": [],
   "source": [
    "def step_by_step_dijkstra(w, source):\n",
    "    # Dijkstra's algorithm + some 'yield' statements to pause the algorithm at interesting times\n",
    "    # and changes of colors of the graph edges and vertices.\n",
    "    # Adapted from the pseudocode at https://en.wikipedia.org/wiki/Dijkstra%27s_algorithm#Pseudocode\n",
    "\n",
    "    G = w.graph\n",
    "    Q = G.vertices()\n",
    "    prev = {v: None for v in G}\n",
    "    # We store distances in the widget, so that they can be accessed by the function\n",
    "    # that returns vertex labels\n",
    "    w.dist = {v: '?' for v in G}\n",
    "    w.dist[source] = 0\n",
    "    w.maxdist = 0\n",
    "    \n",
    "    while Q:\n",
    "        u = Q[0]\n",
    "        \n",
    "        for v in Q:\n",
    "            if w.dist[v] == '?':\n",
    "                continue\n",
    "            if w.dist[u] == '?' or w.dist[v] < w.dist[u]:\n",
    "                u = v\n",
    "        Q.remove(u)\n",
    "        w._select_vertex(u, redraw=True)\n",
    "        yield\n",
    "        \n",
    "        for v in G.neighbor_iterator(u):\n",
    "            if v not in Q:\n",
    "                continue\n",
    "            alt = w.dist[u] + G.edge_label(u,v)\n",
    "            if w.dist[v] == '?' or alt < w.dist[v]:\n",
    "                # update\n",
    "                if prev[v] is not None:\n",
    "                    w.set_edge_color((v, prev[v]), 'cyan')\n",
    "                \n",
    "                w.dist[v] = alt\n",
    "                w.maxdist = max(w.maxdist, alt)\n",
    "                prev[v] = u\n",
    "                w.set_vertex_color(v, 'green')\n",
    "                w.set_edge_color((u,v), 'orange')\n",
    "            else:\n",
    "                w.set_edge_color((u,v), 'lightgray')\n",
    "            w.refresh()\n",
    "            yield\n",
    "        w._select_vertex(u, redraw=True) # unselect\n",
    "        w.done[u] = True\n",
    "        w.refresh()"
   ]
  },
  {
   "cell_type": "code",
   "execution_count": null,
   "metadata": {},
   "outputs": [],
   "source": [
    "g = graphs.GridGraph([5,5])\n",
    "# Give random distances to edges\n",
    "for u,v in g.edge_iterator(labels=False):\n",
    "    g.set_edge_label(u,v, randint(0,50))\n",
    "\n",
    "editor6 = GraphEditor(g, default_radius=20, default_vertex_color='white')\n",
    "editor6.dist = {v: '?' for v in editor6.graph}\n",
    "editor6.done = {v : False  for v in editor6.graph}\n",
    "\n",
    "editor7.get_vertex_label = lambda v: str(editor7.dist[v])\n",
    "\n",
    "button = Button(\n",
    "    description='Next step',\n",
    "    disabled=False,\n",
    "    button_style='', # 'success', 'info', 'warning', 'danger' or ''\n",
    "    tooltip='next step',\n",
    "    icon='forward' # (FontAwesome names without the `fa-` prefix)\n",
    ")\n",
    "\n",
    "def color_label(w, v):\n",
    "    if w.get_vertex_label(v) == '?':\n",
    "        return 'lightpink'\n",
    "    d = w.dist[v]\n",
    "    maxd = w.maxdist\n",
    "    if maxd:\n",
    "        rgbv = int(d * 150/ maxd)\n",
    "        if w.done[v]:\n",
    "            return '#%02x%02x%02x' % (0, 255 - rgbv , 0)\n",
    "        else:\n",
    "            return '#%02x%02x%02x' % (255 - rgbv, 255 - rgbv , 255 - rgbv)\n",
    "    else:\n",
    "        return 'white'\n",
    "\n",
    "editor6.get_vertex_color = lambda v: color_label(editor6, v)\n",
    "\n",
    "gen = step_by_step_dijkstra(editor6, editor6.graph.random_vertex())\n",
    "\n",
    "def button_clbk(b):\n",
    "    try:\n",
    "        next(gen)\n",
    "    except StopIteration:\n",
    "        b.disabled = True\n",
    "\n",
    "# tie the button to button_clbk\n",
    "button.on_click(button_clbk)"
   ]
  },
  {
   "cell_type": "code",
   "execution_count": null,
   "metadata": {},
   "outputs": [],
   "source": [
    "editor6.show()"
   ]
  },
  {
   "cell_type": "code",
   "execution_count": null,
   "metadata": {},
   "outputs": [],
   "source": [
    "button"
   ]
  },
  {
   "cell_type": "markdown",
   "metadata": {},
   "source": [
    "## Animations\n",
    "\n",
    "To make an animated canvas, one can simply ask the algorithm to _wait_ between the important steps. As an example, below is an animation for BFS."
   ]
  },
  {
   "cell_type": "code",
   "execution_count": null,
   "metadata": {},
   "outputs": [],
   "source": [
    "def widget_BFS(w, source):\n",
    "    \n",
    "    G = w.graph\n",
    "    queue = [source]\n",
    "    prev = {v: None for v in G}\n",
    "    prev[source] = source\n",
    "    \n",
    "    while queue:\n",
    "        \n",
    "        # Take a new vertex in the queue\n",
    "        v = queue.pop(0)\n",
    "        w.set_vertex_color(v, 'red')\n",
    "        w.refresh()\n",
    "        yield\n",
    "        \n",
    "        # Add all its neighbors to the queue if they have not already been considered\n",
    "        for u in w.graph.neighbor_iterator(v):\n",
    "            if prev[u] is not None: # u has already been seen\n",
    "                if prev[v] != u and not w.get_edge_color((u,v)) == 'lightgray':  \n",
    "                    w.set_edge_color((u,v), 'lightgray')\n",
    "                    w.refresh()\n",
    "                    yield\n",
    "            else:\n",
    "                queue.append(u)\n",
    "                prev[u] = v\n",
    "                w.set_vertex_color(u, 'green')\n",
    "                w.set_edge_color((u,v), 'orange')\n",
    "                w.refresh()\n",
    "                yield\n",
    "\n",
    "        if v is source:\n",
    "            w.set_vertex_color(v, 'purple')\n",
    "        else:\n",
    "            w.set_vertex_color(v, 'orange')\n",
    "    w.set_vertex_color(v, 'orange')\n",
    "    w.refresh()"
   ]
  },
  {
   "cell_type": "code",
   "execution_count": null,
   "metadata": {},
   "outputs": [],
   "source": [
    "editor7 = GraphEditor(graphs.GridGraph([4,4]), default_radius=20, default_vertex_color='white', show_vertex_labels=False)\n",
    "editor7.show()"
   ]
  },
  {
   "cell_type": "code",
   "execution_count": null,
   "metadata": {},
   "outputs": [],
   "source": [
    "from time import sleep\n",
    "\n",
    "def wait():\n",
    "    sleep(float(0.5))\n",
    "    \n",
    "for _ in widget_BFS(editor7, source=editor7.graph.random_vertex()):\n",
    "    wait()"
   ]
  },
  {
   "cell_type": "markdown",
   "metadata": {},
   "source": [
    "This can even be used to produce animated images:"
   ]
  },
  {
   "cell_type": "code",
   "execution_count": null,
   "metadata": {},
   "outputs": [],
   "source": [
    "editor8 = GraphEditor(graphs.GridGraph([5,5]), default_radius=20, default_vertex_color='white', show_vertex_labels=False)\n",
    "editor8.show()"
   ]
  },
  {
   "cell_type": "code",
   "execution_count": null,
   "metadata": {},
   "outputs": [],
   "source": [
    "# Adapted from https://www.geeksforgeeks.org/create-and-save-animated-gif-with-python-pillow\n",
    "\n",
    "from PIL import Image\n",
    "\n",
    "images = []\n",
    "editor8._multi_canvas.sync_image_data = True\n",
    "\n",
    "for _ in widget_BFS(editor8, source=editor8.graph.random_vertex()):\n",
    "    wait()\n",
    "    image_data = editor8._multi_canvas.get_image_data()\n",
    "    image = Image.fromarray(image_data)\n",
    "    images.append(image)\n",
    "\n",
    "\n",
    "images[0].save('bfs.gif', save_all = True, append_images = images[1:], optimize = False, duration = 10)\n",
    "\n"
   ]
  },
  {
   "cell_type": "code",
   "execution_count": null,
   "metadata": {},
   "outputs": [],
   "source": []
  }
 ],
 "metadata": {
  "kernelspec": {
   "display_name": "SageMath 9.5.beta0",
   "language": "sage",
   "name": "sagemath"
  },
  "language_info": {
   "codemirror_mode": {
    "name": "ipython",
    "version": 3
   },
   "file_extension": ".py",
   "mimetype": "text/x-python",
   "name": "python",
   "nbconvert_exporter": "python",
   "pygments_lexer": "ipython3",
   "version": "3.9.7"
  }
 },
 "nbformat": 4,
 "nbformat_minor": 4
}
