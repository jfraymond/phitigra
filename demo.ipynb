{
 "cells": [
  {
   "cell_type": "markdown",
   "metadata": {},
   "source": [
    "# phitigra: a simple graph editor\n",
    "\n",
    "[SageMath](https://www.sagemath.org/) has a large set of functions for [graph theory](https://doc.sagemath.org/html/en/reference/graphs/index.html). Defining graphs by hand can however be complicated as vertices and edges are added with the command line.\n",
    "This package is an editor that allows to define or change graphs using the mouse. It has the form of a [Jupyter](https://jupyter.org/) widget.\n",
    "\n",
    "## Getting started\n"
   ]
  },
  {
   "cell_type": "code",
   "execution_count": null,
   "metadata": {
    "scrolled": false
   },
   "outputs": [],
   "source": [
    "from src.phitigra import GraphEditor"
   ]
  },
  {
   "cell_type": "markdown",
   "metadata": {},
   "source": [
    "The editor widget is a `GraphEditor` object. By default the canvas is empty; you can add vertices and edges by clicking on *add vertex or edge* and clicking on the canvas."
   ]
  },
  {
   "cell_type": "code",
   "execution_count": null,
   "metadata": {
    "scrolled": false
   },
   "outputs": [],
   "source": [
    "editor = GraphEditor()\n",
    "editor.show()"
   ]
  },
  {
   "cell_type": "markdown",
   "metadata": {},
   "source": [
    "It is also possible to plot (and later edit) an already existing graph. Note that the two instances of the editor are completely independent."
   ]
  },
  {
   "cell_type": "code",
   "execution_count": null,
   "metadata": {
    "scrolled": false
   },
   "outputs": [],
   "source": [
    "G = graphs.PetersenGraph()\n",
    "editor2 = GraphEditor(G)\n",
    "editor2.show()"
   ]
  },
  {
   "cell_type": "markdown",
   "metadata": {},
   "source": [
    "Now you can move vertices, change their color, etc. The graph drawn can be accessed with `.graph`. It is the same object as the graph given when creating the widget."
   ]
  },
  {
   "cell_type": "code",
   "execution_count": null,
   "metadata": {
    "scrolled": false
   },
   "outputs": [],
   "source": [
    "editor2.graph"
   ]
  },
  {
   "cell_type": "code",
   "execution_count": null,
   "metadata": {
    "scrolled": false
   },
   "outputs": [],
   "source": [
    "editor2.graph is G"
   ]
  },
  {
   "cell_type": "markdown",
   "metadata": {},
   "source": [
    "A copy of the drawn graph can be obtained as follows:"
   ]
  },
  {
   "cell_type": "code",
   "execution_count": null,
   "metadata": {
    "scrolled": false
   },
   "outputs": [],
   "source": [
    "H = editor2.get_graph()\n",
    "H == G and not H is G"
   ]
  },
  {
   "cell_type": "markdown",
   "metadata": {},
   "source": [
    "### Application 1: testing a conjecture"
   ]
  },
  {
   "cell_type": "code",
   "execution_count": null,
   "metadata": {},
   "outputs": [],
   "source": [
    "def conjecture(G):\n",
    "    return not G.is_vertex_transitive() or G.is_hamiltonian()"
   ]
  },
  {
   "cell_type": "markdown",
   "metadata": {},
   "source": [
    "Let us [conjecture](https://en.wikipedia.org/wiki/Lov%C3%A1sz_conjecture#Hamiltonian_cycle) that every vertex transitive graph is hamiltonian. Then `conjecture(G)` should return `True` for every graph `G`. We can to test in on various small graphs drawn in the widget. If the graph in the above widget is still the Petersen graph, the following should return `False`, disproving the conjecture."
   ]
  },
  {
   "cell_type": "code",
   "execution_count": null,
   "metadata": {},
   "outputs": [],
   "source": [
    "conjecture(editor2.get_graph())"
   ]
  },
  {
   "cell_type": "markdown",
   "metadata": {},
   "source": [
    "### Application 2: producing pictures for your papers\n",
    "\n",
    "The drawing of the graph in the editor can be exported to a latex (tikz) picture to be included in a paper. The latex code can be obtained as follows: "
   ]
  },
  {
   "cell_type": "code",
   "execution_count": null,
   "metadata": {
    "scrolled": true
   },
   "outputs": [],
   "source": [
    "latex(editor2.graph)"
   ]
  },
  {
   "cell_type": "markdown",
   "metadata": {},
   "source": [
    "Note that only the positions of the vertices will be kept. See [this page](https://doc.sagemath.org/html/en/tutorial/latex.html#an-example-combinatorial-graphs-with-tkz-graph) for more details about exporting graphs to latex. The resulting pdf image can be seen as follows."
   ]
  },
  {
   "cell_type": "code",
   "execution_count": null,
   "metadata": {},
   "outputs": [],
   "source": [
    "view(editor2.graph)"
   ]
  },
  {
   "cell_type": "markdown",
   "metadata": {},
   "source": [
    "Note that the above requires ``pdflatex``. It  will fail if you run this demo on binder.\n",
    "\n",
    "## Widget settings\n",
    "\n",
    "Several parameters of the widget can be changed:\n",
    "  * the width and height of the drawing canvas;\n",
    "  * the default radius and color for vertices;\n",
    "  * the default color for edges;\n",
    "  * whether or not the display vertex and edge labels."
   ]
  },
  {
   "cell_type": "code",
   "execution_count": null,
   "metadata": {},
   "outputs": [],
   "source": [
    "editor3 = GraphEditor(graphs.PetersenGraph(), width=300, height=300, default_radius=12, default_vertex_color='orange', default_edge_color='#666', show_vertex_labels=False)\n",
    "editor3.show()"
   ]
  },
  {
   "cell_type": "markdown",
   "metadata": {},
   "source": [
    "## Changing the drawing\n",
    "\n",
    "Changes to the drawing can be done with the mouse of course, but also by calling appropriate functions."
   ]
  },
  {
   "cell_type": "code",
   "execution_count": null,
   "metadata": {},
   "outputs": [],
   "source": [
    "K = graphs.RandomGNP(10, 0.5)\n",
    "editor4 = GraphEditor(K)\n",
    "editor4.show()"
   ]
  },
  {
   "cell_type": "code",
   "execution_count": null,
   "metadata": {},
   "outputs": [],
   "source": [
    "editor4.set_vertex_color(1, 'white') # recolor vertex 1\n",
    "editor4.set_vertex_radius(6, 30)     # make vertex 6 bigger\n",
    "editor4.refresh()                    # needed to update the canvas"
   ]
  },
  {
   "cell_type": "markdown",
   "metadata": {},
   "source": [
    "### Application 4: automatically setting colors\n",
    "\n",
    "The colors of the vertices and edges can be defined by a function."
   ]
  },
  {
   "cell_type": "code",
   "execution_count": null,
   "metadata": {},
   "outputs": [],
   "source": [
    "g = graphs.GridGraph([5,5])\n",
    "editor55 = GraphEditor(g, default_radius=30, default_vertex_color='white')\n",
    "editor55.show()"
   ]
  },
  {
   "cell_type": "markdown",
   "metadata": {},
   "source": [
    "The code below recolors the vertices depending on their distance to vertex `(3,0)`."
   ]
  },
  {
   "cell_type": "code",
   "execution_count": null,
   "metadata": {},
   "outputs": [],
   "source": [
    "def col(i, n):\n",
    "    # Return a color depending on i\n",
    "    rgbv = int(i * 255 / n)\n",
    "    return '#%02x%02x%02x' % (100, rgbv , 255 - rgbv)\n",
    "\n",
    "source = (3,0)\n",
    "max_dist = max(g.distance(source, v) for v in g)\n",
    "\n",
    "for v in g:\n",
    "    d = g.distance(source, v)\n",
    "    editor55.set_vertex_color(v, col(d, max_dist))\n",
    "editor55.refresh()"
   ]
  },
  {
   "cell_type": "markdown",
   "metadata": {},
   "source": [
    "Now the size of the vertices shapes in the widget above depend on the degree of the vertices and the color of the vertices and edges depend on the parity of the vertices names.\n",
    "\n",
    "### Application 5: making animations\n",
    "\n",
    "We now define a function that runs Dikjstra's algorithm on the graph of a `GraphEditor` widget and colors edges and vertices during when they are considered."
   ]
  },
  {
   "cell_type": "code",
   "execution_count": null,
   "metadata": {},
   "outputs": [],
   "source": [
    "from random import randint, choice\n",
    "from time import sleep\n",
    "\n",
    "def wait():\n",
    "    sleep(float(0.5))\n",
    "\n",
    "def dikjstra(w, source):\n",
    "    G = w.graph\n",
    "    Q = []\n",
    "    dist = dict()\n",
    "    prev = dict()\n",
    "    for v in G:\n",
    "        dist[v] = 10000 # infinity\n",
    "        prev[v] = None\n",
    "        Q.append(v)\n",
    "    \n",
    "    dist[source] = 0\n",
    "    \n",
    "    while Q:\n",
    "        u = Q[0]\n",
    "        \n",
    "        for v in Q:\n",
    "            if dist[v] < dist[u]:\n",
    "                u = v\n",
    "        Q.remove(u)\n",
    "        w.set_vertex_color(u, 'red')\n",
    "        w.refresh()\n",
    "        wait()\n",
    "        \n",
    "        for v in G.neighbor_iterator(u):\n",
    "            if v not in Q:\n",
    "                continue\n",
    "            alt = dist[u] + G.edge_label(u,v)\n",
    "            if alt < dist[v]:\n",
    "                # update\n",
    "                if prev[v] is not None:\n",
    "                    w.set_edge_color((v, prev[v]), 'cyan')\n",
    "                \n",
    "                dist[v] = alt\n",
    "                prev[v] = u\n",
    "                w.set_edge_color((u,v), 'orange')\n",
    "            else:\n",
    "                w.set_edge_color((u,v), 'lightgray')\n",
    "            w.refresh()\n",
    "            wait()\n",
    "        w.set_vertex_color(u, 'orange')\n",
    "        if u == source:\n",
    "            w.set_vertex_color(u, 'purple')\n",
    "    w.set_vertex_color(u, 'orange')"
   ]
  },
  {
   "cell_type": "code",
   "execution_count": null,
   "metadata": {},
   "outputs": [],
   "source": [
    "g = graphs.GridGraph([5,5])\n",
    "# Give random labels to edges\n",
    "for u,v in g.edge_iterator(labels=False):\n",
    "    g.set_edge_label(u,v, randint(0,50))\n",
    "\n",
    "editor555 = GraphEditor(g, default_radius=15, default_vertex_color='white', show_vertex_labels=False)\n",
    "editor555.show()"
   ]
  },
  {
   "cell_type": "markdown",
   "metadata": {},
   "source": [
    "The following runs Dikjstra's algorithm on the graph above.\n",
    "A vertex is:\n",
    "\n",
    "  * purple if it is the source\n",
    "  * red if it is the currently considered vertex\n",
    "  * orange if it has already been considered\n",
    "  \n",
    "An edge is:\n",
    "\n",
    "  * black if it has not been considered\n",
    "  * orange if it is currently part of a shortest path\n",
    "  * blue if it has been shortcut\n",
    "  * grey if it has been considered and is not a shortcut"
   ]
  },
  {
   "cell_type": "code",
   "execution_count": null,
   "metadata": {},
   "outputs": [],
   "source": [
    "dikjstra(editor555, choice(editor555.graph.vertices()))"
   ]
  },
  {
   "cell_type": "markdown",
   "metadata": {},
   "source": [
    "## Calling a custom function by mouse clicks"
   ]
  },
  {
   "cell_type": "markdown",
   "metadata": {},
   "source": [
    "There is a *Next* button on the widget. It can be set to call a custom function that changes the drawn graph.\n",
    "\n",
    "Below we define a function that takes as input a graph editor widget and performs the following on its graph:\n",
    "  \n",
    "  * when first called, it choses a random vertex, colors it and stores it as a private variable of the widget;\n",
    "  * on the subsequent calls, it choses a random neighbor of the last previously chosen vertex that has not been considered yet, if any, colors it and stores it as well in the widget object.\n",
    "  \n",
    "By registering this function as the callback for the *Next* button, we are able to see the different steps of the construction of a maximal path by clicking repeteadly on *Next*.\n"
   ]
  },
  {
   "cell_type": "code",
   "execution_count": null,
   "metadata": {},
   "outputs": [],
   "source": [
    "from random import choice\n",
    "\n",
    "def greedy_path(widget):\n",
    "    # Greedily construct path starting at a random vertex\n",
    "    if not hasattr(widget, '_path'):\n",
    "        first = choice(widget.graph.vertices())   # The path starts at a random vertex\n",
    "        widget._path = [first]                    # We use the widget to store the state of the algorithm\n",
    "        widget.set_vertex_color(first, 'orange')\n",
    "        widget.refresh()\n",
    "        return\n",
    "    last = widget._path[-1]\n",
    "    \n",
    "    free_neighbors = [v for v in widget.graph.neighbor_iterator(last) if not v in widget._path]\n",
    "    if not free_neighbors:\n",
    "        widget.output_text('The path cannot be extended!')\n",
    "    else:\n",
    "        nextv = choice(free_neighbors)  \n",
    "        widget._path.append(nextv)\n",
    "        widget.set_vertex_color(nextv, 'red')\n",
    "        widget.set_edge_color((last, nextv), 'red')\n",
    "        widget.refresh()    "
   ]
  },
  {
   "cell_type": "code",
   "execution_count": null,
   "metadata": {},
   "outputs": [],
   "source": [
    "R = graphs.RandomGNP(10, 0.5)\n",
    "editor5 = GraphEditor(R, default_vertex_color = 'white')\n",
    "editor5.show()"
   ]
  },
  {
   "cell_type": "code",
   "execution_count": null,
   "metadata": {},
   "outputs": [],
   "source": [
    "editor5.set_next_clbk(greedy_path) # Define the callback for the 'Next' button"
   ]
  },
  {
   "cell_type": "markdown",
   "metadata": {},
   "source": [
    "Now clicks on *Next* update the graph !"
   ]
  },
  {
   "cell_type": "markdown",
   "metadata": {},
   "source": [
    "### Application 6: presenting algorithms\n",
    "\n",
    "The callback for the *Next* button can be used to run an algorithm step-by-step on an example graph during a lecture. For instance to display the computation of a shortest path, a spanning tree, a BFS search, etc.\n",
    "\n",
    "### Application 7: testing algorithms\n",
    "\n",
    "It can also be used to try a function on small instances or to debug."
   ]
  },
  {
   "cell_type": "code",
   "execution_count": null,
   "metadata": {},
   "outputs": [],
   "source": [
    "editor6 = GraphEditor(graphs.PetersenGraph(), default_vertex_color = 'white')\n",
    "editor6.show()"
   ]
  },
  {
   "cell_type": "code",
   "execution_count": null,
   "metadata": {},
   "outputs": [],
   "source": [
    "def mdscolor(widget):\n",
    "    \"Color the vertices with minimal dominating sets\"\n",
    "    if not hasattr(widget, '_mds'):\n",
    "        widget._mds = widget.graph.minimal_dominating_sets() # an iterator over minimal dominating sets\n",
    "        widget.output_text('Showing the minimal dominating sets...')\n",
    "    \n",
    "    try:\n",
    "        D = next(widget._mds)\n",
    "    except StopIteration:\n",
    "        widget.output_text('Done! Back to the initial state.')\n",
    "        for v in widget.graph:\n",
    "            widget.set_vertex_color(v, 'white')\n",
    "        widget.refresh()        \n",
    "        del widget._mds\n",
    "        return\n",
    "    \n",
    "    for v in widget.graph:\n",
    "        widget.set_vertex_color(v, 'white')\n",
    "    for v in D:\n",
    "        widget.set_vertex_color(v, 'green')\n",
    "    widget.refresh()\n",
    "\n",
    "# Register the function as a callback for the `Next` button:\n",
    "editor6.set_next_clbk(mdscolor)"
   ]
  },
  {
   "cell_type": "markdown",
   "metadata": {},
   "source": [
    "Now you can click on *Next* on the widget above. After each click, a new minimal dominating set of the graph will be shown with green vertices!"
   ]
  },
  {
   "cell_type": "code",
   "execution_count": null,
   "metadata": {},
   "outputs": [],
   "source": []
  }
 ],
 "metadata": {
  "kernelspec": {
   "display_name": "SageMath 9.5.beta0",
   "language": "sage",
   "name": "sagemath"
  },
  "language_info": {
   "codemirror_mode": {
    "name": "ipython",
    "version": 3
   },
   "file_extension": ".py",
   "mimetype": "text/x-python",
   "name": "python",
   "nbconvert_exporter": "python",
   "pygments_lexer": "ipython3",
   "version": "3.9.6"
  }
 },
 "nbformat": 4,
 "nbformat_minor": 4
}
