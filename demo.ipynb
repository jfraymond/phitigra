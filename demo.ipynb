{
 "cells": [
  {
   "cell_type": "markdown",
   "metadata": {},
   "source": [
    "# phitigra: a simple graph editor\n",
    "\n",
    "[SageMath](https://www.sagemath.org/) has a large set of functions for [graph theory](https://doc.sagemath.org/html/en/reference/graphs/index.html). Defining graphs by hand can however be complicated as vertices and edges are added with the command line.\n",
    "This package is an editor that allows to define or change graphs using the mouse. It has the form of a [Jupyter](https://jupyter.org/) widget.\n",
    "\n",
    "## Getting started\n"
   ]
  },
  {
   "cell_type": "code",
   "execution_count": 2,
   "metadata": {
    "scrolled": false
   },
   "outputs": [],
   "source": [
    "from src.phitigra import GraphEditor"
   ]
  },
  {
   "cell_type": "markdown",
   "metadata": {},
   "source": [
    "The editor widget is a `GraphEditor` object. By default the canvas is empty; you can add vertices and edges by clicking on *add vertex or edge* and clicking on the canvas."
   ]
  },
  {
   "cell_type": "code",
   "execution_count": null,
   "metadata": {
    "scrolled": false
   },
   "outputs": [],
   "source": [
    "editor = GraphEditor()\n",
    "editor.show()"
   ]
  },
  {
   "cell_type": "markdown",
   "metadata": {},
   "source": [
    "It is also possible to plot (and later edit) an already existing graph. Note that the two instances of the editor are completely independent."
   ]
  },
  {
   "cell_type": "code",
   "execution_count": null,
   "metadata": {
    "scrolled": false
   },
   "outputs": [],
   "source": [
    "G = graphs.PetersenGraph()\n",
    "editor2 = GraphEditor(G)\n",
    "editor2.show()"
   ]
  },
  {
   "cell_type": "markdown",
   "metadata": {},
   "source": [
    "Now you can move vertices, change their color, etc. The graph drawn can be accessed with `.graph`. It is the same object as the graph given when creating the widget."
   ]
  },
  {
   "cell_type": "code",
   "execution_count": null,
   "metadata": {
    "scrolled": false
   },
   "outputs": [],
   "source": [
    "editor2.graph"
   ]
  },
  {
   "cell_type": "code",
   "execution_count": null,
   "metadata": {
    "scrolled": false
   },
   "outputs": [],
   "source": [
    "editor2.graph is G"
   ]
  },
  {
   "cell_type": "markdown",
   "metadata": {},
   "source": [
    "A copy of the drawn graph can be obtained as follows:"
   ]
  },
  {
   "cell_type": "code",
   "execution_count": null,
   "metadata": {
    "scrolled": false
   },
   "outputs": [],
   "source": [
    "H = editor2.get_graph()\n",
    "H == G and not H is G"
   ]
  },
  {
   "cell_type": "markdown",
   "metadata": {},
   "source": [
    "### Application 1: testing a conjecture"
   ]
  },
  {
   "cell_type": "code",
   "execution_count": null,
   "metadata": {},
   "outputs": [],
   "source": [
    "def conjecture(G):\n",
    "    return not G.is_vertex_transitive() or G.is_hamiltonian()"
   ]
  },
  {
   "cell_type": "markdown",
   "metadata": {},
   "source": [
    "Let us [conjecture](https://en.wikipedia.org/wiki/Lov%C3%A1sz_conjecture#Hamiltonian_cycle) that every vertex transitive graph is hamiltonian. Then `conjecture(G)` should return `True` for every graph `G`. We can to test in on various small graphs drawn in the widget. If the graph in the above widget is still the Petersen graph, the following should return `False`, disproving the conjecture."
   ]
  },
  {
   "cell_type": "code",
   "execution_count": null,
   "metadata": {},
   "outputs": [],
   "source": [
    "conjecture(editor2.get_graph())"
   ]
  },
  {
   "cell_type": "markdown",
   "metadata": {},
   "source": [
    "### Application 2: producing pictures for your papers\n",
    "\n",
    "The drawing of the graph in the editor can be exported to a latex (tikz) picture to be included in a paper. The latex code can be obtained as follows: "
   ]
  },
  {
   "cell_type": "code",
   "execution_count": null,
   "metadata": {
    "scrolled": true
   },
   "outputs": [],
   "source": [
    "latex(editor2.graph)"
   ]
  },
  {
   "cell_type": "markdown",
   "metadata": {},
   "source": [
    "Note that only the positions of the vertices will be kept. See [this page](https://doc.sagemath.org/html/en/tutorial/latex.html#an-example-combinatorial-graphs-with-tkz-graph) for more details about exporting graphs to latex . The resulting pdf image can be seen as follows."
   ]
  },
  {
   "cell_type": "code",
   "execution_count": null,
   "metadata": {},
   "outputs": [],
   "source": [
    "view(editor2.graph)"
   ]
  },
  {
   "cell_type": "markdown",
   "metadata": {},
   "source": [
    "The above requires ``pdflatex``. It  will fail if you run this demo on binder.\n",
    "\n",
    "## Widget settings\n",
    "\n",
    "Several parameters of the widget can be changed:\n",
    "  * the width and height of the drawing canvas;\n",
    "  * the default radius and color for vertices;\n",
    "  * the default color for edges;\n",
    "  * whether or not the display vertex and edge labels."
   ]
  },
  {
   "cell_type": "code",
   "execution_count": null,
   "metadata": {},
   "outputs": [],
   "source": [
    "editor3 = GraphEditor(graphs.PetersenGraph(), width=300, height=300, default_radius=12, default_vertex_color='orange', default_edge_color='#666', show_vertex_labels=False)\n",
    "editor3.show()"
   ]
  },
  {
   "cell_type": "markdown",
   "metadata": {},
   "source": [
    "## Changing the drawing\n",
    "\n",
    "Changes to the drawing can be done with the mouse of course, but also by calling appropriate functions.\n",
    "\n",
    "### Automatically setting positions"
   ]
  },
  {
   "cell_type": "code",
   "execution_count": 3,
   "metadata": {},
   "outputs": [
    {
     "data": {
      "application/vnd.jupyter.widget-view+json": {
       "model_id": "0cf9ec1eea374ccf93549842c296f585",
       "version_major": 2,
       "version_minor": 0
      },
      "text/plain": [
       "HBox(children=(VBox(children=(MultiCanvas(layout=Layout(border='3px solid lightgrey', height='506px', overflow…"
      ]
     },
     "metadata": {},
     "output_type": "display_data"
    }
   ],
   "source": [
    "K = graphs.RandomBipartite(5,5,0.75)\n",
    "editor4 = GraphEditor(K, width = 500, height = 500)\n",
    "editor4.show()"
   ]
  },
  {
   "cell_type": "markdown",
   "metadata": {},
   "source": [
    "The graph drawn above is bipartite and the partition numbe of a vertex is the first coordinate of its label. The code below sorts and colors vertices according to their partition number and changes their size according to the second coordinate of their label."
   ]
  },
  {
   "cell_type": "code",
   "execution_count": 4,
   "metadata": {},
   "outputs": [],
   "source": [
    "for v in editor4.graph:\n",
    "    p, i = v\n",
    "    \n",
    "    editor4.set_vertex_radius(v, 3 * i + 25)\n",
    "    if p:\n",
    "        editor4.set_vertex_pos(v, 100, 50 +  100 * i)\n",
    "        # editor4.set_vertex_color(v, 'red')\n",
    "    else:\n",
    "        editor4.set_vertex_pos(v, 400, 50 + 100 * i)\n",
    "        #editor4.set_vertex_color(v, 'lightblue')\n",
    "    \n",
    "editor4.refresh()                    # needed to update the canvas"
   ]
  },
  {
   "cell_type": "markdown",
   "metadata": {},
   "source": [
    "The names of the vertices are by default the vertex labels, but can be changed by redefining the `get_vertex_label` function."
   ]
  },
  {
   "cell_type": "code",
   "execution_count": 9,
   "metadata": {},
   "outputs": [],
   "source": [
    "def label(v):\n",
    "    p, i = v\n",
    "    return ('left ' if p else 'right ') + str(i)\n",
    "\n",
    "editor4.get_vertex_label = label\n",
    "editor4.refresh()"
   ]
  },
  {
   "cell_type": "markdown",
   "metadata": {},
   "source": [
    "### Automatically setting colors\n",
    "\n",
    "The colors of the vertices and edges can also be defined by a function."
   ]
  },
  {
   "cell_type": "code",
   "execution_count": 10,
   "metadata": {},
   "outputs": [
    {
     "data": {
      "application/vnd.jupyter.widget-view+json": {
       "model_id": "6ec607194f754e1185da686e3002927b",
       "version_major": 2,
       "version_minor": 0
      },
      "text/plain": [
       "HBox(children=(VBox(children=(MultiCanvas(height=400, layout=Layout(border='3px solid lightgrey', height='406p…"
      ]
     },
     "metadata": {},
     "output_type": "display_data"
    }
   ],
   "source": [
    "n = 10\n",
    "g = graphs.GridGraph([n,n])\n",
    "editor5 = GraphEditor(g, default_radius=15, default_vertex_color='white')\n",
    "editor5.show()"
   ]
  },
  {
   "cell_type": "markdown",
   "metadata": {},
   "source": [
    "The code below recolors the vertices depending on their distance to vertex `(3,1)`."
   ]
  },
  {
   "cell_type": "code",
   "execution_count": 12,
   "metadata": {},
   "outputs": [],
   "source": [
    "def col(i, n):\n",
    "    # Return a color depending on i\n",
    "    rgbv = int(i * 255 / n)\n",
    "    return '#%02x%02x%02x' % (100, rgbv , 255 - rgbv)\n",
    "\n",
    "x,y = (3, 1) # source\n",
    "# maximum distance to (x,y) in the graph\n",
    "max_dist = max(x, n - 1 - x) + max(y, n - 1 -y)\n",
    "\n",
    "for v in g:\n",
    "    d = g.distance((x, y), v)\n",
    "    editor5.set_vertex_color(v, col(d, max_dist))\n",
    "editor5.refresh()"
   ]
  },
  {
   "cell_type": "markdown",
   "metadata": {},
   "source": [
    "## Making animations\n",
    "\n",
    "We now define a function that runs Dikjstra's algorithm on the graph of a `GraphEditor` widget and colors edges and vertices during when they are considered."
   ]
  },
  {
   "cell_type": "code",
   "execution_count": 13,
   "metadata": {},
   "outputs": [],
   "source": [
    "from random import randint, choice\n",
    "from time import sleep\n",
    "\n",
    "def wait():\n",
    "    sleep(float(0.5))\n",
    "\n",
    "def widget_dikjstra(w, source):\n",
    "    # Adapted from the pseudocode at https://en.wikipedia.org/wiki/Dijkstra%27s_algorithm#Pseudocode\n",
    "    G = w.graph\n",
    "    Q = G.vertices()\n",
    "    prev = {v: None for v in G}\n",
    "    dist = {v: 10000 for v in G}  # 10000 aka infinity\n",
    "    dist[source] = 0\n",
    "    \n",
    "    while Q:\n",
    "        u = Q[0]\n",
    "        \n",
    "        for v in Q:\n",
    "            if dist[v] < dist[u]:\n",
    "                u = v\n",
    "        Q.remove(u)\n",
    "        w.set_vertex_color(u, 'red')\n",
    "        w.refresh()\n",
    "        wait()\n",
    "        \n",
    "        for v in G.neighbor_iterator(u):\n",
    "            if v not in Q:\n",
    "                continue\n",
    "            alt = dist[u] + G.edge_label(u,v)\n",
    "            if alt < dist[v]:\n",
    "                # update\n",
    "                if prev[v] is not None:\n",
    "                    w.set_edge_color((v, prev[v]), 'cyan')\n",
    "                \n",
    "                dist[v] = alt\n",
    "                prev[v] = u\n",
    "                w.set_vertex_color(v, 'green')\n",
    "                w.set_edge_color((u,v), 'orange')\n",
    "            else:\n",
    "                w.set_edge_color((u,v), 'lightgray')\n",
    "            w.refresh()\n",
    "            wait()\n",
    "        w.set_vertex_color(u, 'orange')\n",
    "        if u == source:\n",
    "            w.set_vertex_color(u, 'purple')\n",
    "    w.refresh()"
   ]
  },
  {
   "cell_type": "code",
   "execution_count": 14,
   "metadata": {},
   "outputs": [
    {
     "data": {
      "application/vnd.jupyter.widget-view+json": {
       "model_id": "f4e302f5f1074025b28f85091c69a76d",
       "version_major": 2,
       "version_minor": 0
      },
      "text/plain": [
       "HBox(children=(VBox(children=(MultiCanvas(height=400, layout=Layout(border='3px solid lightgrey', height='406p…"
      ]
     },
     "metadata": {},
     "output_type": "display_data"
    }
   ],
   "source": [
    "g = graphs.GridGraph([5,5])\n",
    "# Give random labels to edges\n",
    "for u,v in g.edge_iterator(labels=False):\n",
    "    g.set_edge_label(u,v, randint(0,50))\n",
    "\n",
    "editor6 = GraphEditor(g, default_radius=15, default_vertex_color='white', show_vertex_labels=False)\n",
    "editor6.show()"
   ]
  },
  {
   "cell_type": "markdown",
   "metadata": {},
   "source": [
    "The following runs Dikjstra's algorithm on the graph above, where edge labels represent distances\n",
    "A vertex is:\n",
    "\n",
    "  * white if it has not been discovered yet;\n",
    "  * green if it has been discovered and not processed yet;\n",
    "  * red if it is being processed;\n",
    "  * orange if it has been processed;\n",
    "  * purple if it is the source.\n",
    "\n",
    "An edge is:\n",
    "\n",
    "  * black if it has not been considered;\n",
    "  * orange if it is currently part of a shortest path;\n",
    "  * blue if it has been shortcut;\n",
    "  * grey if it has been considered and is not a shortcut."
   ]
  },
  {
   "cell_type": "code",
   "execution_count": 15,
   "metadata": {},
   "outputs": [],
   "source": [
    "widget_dikjstra(editor6, choice(editor6.graph.vertices()))"
   ]
  },
  {
   "cell_type": "markdown",
   "metadata": {},
   "source": [
    "## Running an algorithm step by step"
   ]
  },
  {
   "cell_type": "markdown",
   "metadata": {},
   "source": [
    "A drawback of the animation described in the previous section is that one cannot pause it, which could be convenient in order to explain how the algorithm goes from one step to the next one. We show here how one can present the BFS algorithm step by step with the `GraphEditor` widget. For this we define below a function `widget_BFS` that returns a generator. Each time an element is extracted from this generator, a new step of the algorithm is ran and the drawing is updated. We can then define a button widget to run the algorithm step by step. This can also be used to test and debug an algorithm on specific graphs."
   ]
  },
  {
   "cell_type": "code",
   "execution_count": 16,
   "metadata": {},
   "outputs": [],
   "source": [
    "def widget_BFS(w, source):\n",
    "    \n",
    "    G = w.graph\n",
    "    queue = [source]\n",
    "    prev = {v: None for v in G}\n",
    "    prev[source] = source\n",
    "    \n",
    "    while queue:\n",
    "        \n",
    "        # Take a new vertex in the queue\n",
    "        v = queue.pop(0)\n",
    "        w.set_vertex_color(v, 'red')\n",
    "        w.refresh()\n",
    "        yield None\n",
    "        \n",
    "        # Add all its neighbors to the queue if they have not already been considered\n",
    "        for u in w.graph.neighbor_iterator(v):\n",
    "            if prev[u] is not None: # u has already been seen\n",
    "                if prev[v] != u and not w.get_edge_color((u,v)) == 'lightgray':  \n",
    "                    w.set_edge_color((u,v), 'lightgray')\n",
    "                    w.refresh()\n",
    "                    yield None\n",
    "            else:\n",
    "                queue.append(u)\n",
    "                prev[u] = v\n",
    "                w.set_vertex_color(u, 'green')\n",
    "                w.set_edge_color((u,v), 'orange')\n",
    "                w.refresh()\n",
    "                yield None\n",
    "\n",
    "        if v is source:\n",
    "            w.set_vertex_color(v, 'purple')\n",
    "        else:\n",
    "            w.set_vertex_color(v, 'orange')\n",
    "    w.set_vertex_color(v, 'orange')\n",
    "    w.refresh()"
   ]
  },
  {
   "cell_type": "code",
   "execution_count": 17,
   "metadata": {},
   "outputs": [],
   "source": [
    "editor6 = GraphEditor(graphs.GridGraph([4,4]), default_radius=20, default_vertex_color='white', show_vertex_labels=False)\n",
    "\n",
    "gen = widget_BFS(editor6, source=choice(editor6.graph.vertices()))"
   ]
  },
  {
   "cell_type": "markdown",
   "metadata": {},
   "source": [
    "Now we define a button widget to run the algorithm"
   ]
  },
  {
   "cell_type": "code",
   "execution_count": 18,
   "metadata": {},
   "outputs": [],
   "source": [
    "from ipywidgets import Button\n",
    "\n",
    "button = Button(\n",
    "    description='Next step',\n",
    "    disabled=False,\n",
    "    button_style='', # 'success', 'info', 'warning', 'danger' or ''\n",
    "    tooltip='next step',\n",
    "    icon='forward' # (FontAwesome names without the `fa-` prefix)\n",
    ")\n",
    "\n",
    "def button_clbk(b):\n",
    "    try:\n",
    "        next(gen)\n",
    "    except StopIteration:\n",
    "        b.disabled = True\n",
    "\n",
    "# tie the button to button_clbk\n",
    "button.on_click(button_clbk)"
   ]
  },
  {
   "cell_type": "code",
   "execution_count": 19,
   "metadata": {},
   "outputs": [
    {
     "data": {
      "application/vnd.jupyter.widget-view+json": {
       "model_id": "9fde030cabaf491fb3ac182cc16e46a3",
       "version_major": 2,
       "version_minor": 0
      },
      "text/plain": [
       "HBox(children=(VBox(children=(MultiCanvas(height=400, layout=Layout(border='3px solid lightgrey', height='406p…"
      ]
     },
     "metadata": {},
     "output_type": "display_data"
    }
   ],
   "source": [
    "editor6.show()"
   ]
  },
  {
   "cell_type": "code",
   "execution_count": 20,
   "metadata": {},
   "outputs": [
    {
     "data": {
      "application/vnd.jupyter.widget-view+json": {
       "model_id": "965d0b5919ae4a2a9169b0e8acdfa1c5",
       "version_major": 2,
       "version_minor": 0
      },
      "text/plain": [
       "Button(description='Next step', icon='forward', style=ButtonStyle(), tooltip='next step')"
      ]
     },
     "metadata": {},
     "output_type": "display_data"
    }
   ],
   "source": [
    "button "
   ]
  },
  {
   "cell_type": "markdown",
   "metadata": {},
   "source": [
    "In the drawing above, a vertex is:\n",
    "\n",
    "  * white if it has not been discovered yet\n",
    "  * green if it belongs to the queue (discovered and not processed yet)\n",
    "  * red if it is being processed\n",
    "  * orange if it has been processed\n",
    "  * purple if it is the source.\n",
    "  \n",
    "An edge is\n",
    "\n",
    "  * black if it has not been traversed yet\n",
    "  * orange if it has been traversed to see a new vertex\n",
    "  * gray if it has been traversed to see an already known vertex."
   ]
  },
  {
   "cell_type": "markdown",
   "metadata": {},
   "source": [
    "## Bonus: step-by-step Dijkstra with distances"
   ]
  },
  {
   "cell_type": "code",
   "execution_count": 25,
   "metadata": {},
   "outputs": [],
   "source": [
    "def step_by_step_dijkstra(w, source):\n",
    "    # Adapted from the pseudocode at https://en.wikipedia.org/wiki/Dijkstra%27s_algorithm#Pseudocode\n",
    "    G = w.graph\n",
    "    Q = G.vertices()\n",
    "    prev = {v: None for v in G}\n",
    "    w.dist = {v: '∞' for v in G}\n",
    "    w.dist[source] = 0\n",
    "    \n",
    "    while Q:\n",
    "        u = Q[0]\n",
    "        \n",
    "        for v in Q:\n",
    "            if w.dist[v] == '∞':\n",
    "                continue\n",
    "            if w.dist[u] == '∞' or w.dist[v] < w.dist[u]:\n",
    "                u = v\n",
    "        Q.remove(u)\n",
    "        w.set_vertex_color(u, 'red')\n",
    "        w.refresh()\n",
    "        yield\n",
    "        \n",
    "        for v in G.neighbor_iterator(u):\n",
    "            if v not in Q:\n",
    "                continue\n",
    "            alt = w.dist[u] + G.edge_label(u,v)\n",
    "            if w.dist[v] == '∞' or alt < w.dist[v]:\n",
    "                # update\n",
    "                if prev[v] is not None:\n",
    "                    w.set_edge_color((v, prev[v]), 'cyan')\n",
    "                \n",
    "                w.dist[v] = alt\n",
    "                prev[v] = u\n",
    "                w.set_vertex_color(v, 'green')\n",
    "                w.set_edge_color((u,v), 'orange')\n",
    "            else:\n",
    "                w.set_edge_color((u,v), 'lightgray')\n",
    "            w.refresh()\n",
    "            yield\n",
    "        w.set_vertex_color(u, 'orange')\n",
    "        if u == source:\n",
    "            w.set_vertex_color(u, 'purple')\n",
    "    w.refresh()"
   ]
  },
  {
   "cell_type": "code",
   "execution_count": 32,
   "metadata": {},
   "outputs": [],
   "source": [
    "g = graphs.GridGraph([5,5])\n",
    "# Give random labels to edges\n",
    "for u,v in g.edge_iterator(labels=False):\n",
    "    g.set_edge_label(u,v, randint(0,50))\n",
    "\n",
    "editor7 = GraphEditor(g, default_radius=20, default_vertex_color='white')\n",
    "editor7.dist = {v: None for v in editor6.graph}\n",
    "\n",
    "editor7.get_vertex_label = lambda v: str(editor7.dist[v])\n",
    "\n",
    "button = Button(\n",
    "    description='Next step',\n",
    "    disabled=False,\n",
    "    button_style='', # 'success', 'info', 'warning', 'danger' or ''\n",
    "    tooltip='next step',\n",
    "    icon='forward' # (FontAwesome names without the `fa-` prefix)\n",
    ")\n",
    "\n",
    "gen = step_by_step_dijkstra(editor7, choice(editor7.graph.vertices()))\n",
    "\n",
    "def button_clbk(b):\n",
    "    try:\n",
    "        next(gen)\n",
    "    except StopIteration:\n",
    "        b.disabled = True\n",
    "\n",
    "# tie the button to button_clbk\n",
    "button.on_click(button_clbk)"
   ]
  },
  {
   "cell_type": "code",
   "execution_count": 33,
   "metadata": {},
   "outputs": [
    {
     "data": {
      "application/vnd.jupyter.widget-view+json": {
       "model_id": "7583251e4f8242b0868ec2a04e548d65",
       "version_major": 2,
       "version_minor": 0
      },
      "text/plain": [
       "HBox(children=(VBox(children=(MultiCanvas(height=400, image_data=b'\\x89PNG\\r\\n\\x1a\\n\\x00\\x00\\x00\\rIHDR\\x00\\x00…"
      ]
     },
     "metadata": {},
     "output_type": "display_data"
    }
   ],
   "source": [
    "editor7.show()"
   ]
  },
  {
   "cell_type": "code",
   "execution_count": 34,
   "metadata": {},
   "outputs": [
    {
     "data": {
      "application/vnd.jupyter.widget-view+json": {
       "model_id": "8966b1e1656d47e39ef18cfc995cbed8",
       "version_major": 2,
       "version_minor": 0
      },
      "text/plain": [
       "Button(description='Next step', icon='forward', style=ButtonStyle(), tooltip='next step')"
      ]
     },
     "metadata": {},
     "output_type": "display_data"
    }
   ],
   "source": [
    "button"
   ]
  }
 ],
 "metadata": {
  "kernelspec": {
   "display_name": "SageMath 9.5.beta0",
   "language": "sage",
   "name": "sagemath"
  },
  "language_info": {
   "codemirror_mode": {
    "name": "ipython",
    "version": 3
   },
   "file_extension": ".py",
   "mimetype": "text/x-python",
   "name": "python",
   "nbconvert_exporter": "python",
   "pygments_lexer": "ipython3",
   "version": "3.9.6"
  }
 },
 "nbformat": 4,
 "nbformat_minor": 4
}
